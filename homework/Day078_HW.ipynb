{
 "cells": [
  {
   "cell_type": "markdown",
   "metadata": {},
   "source": [
    "## Work\n",
    "1. 請嘗試將 preproc_x 替換成以每筆資料的 min/max 進行標準化至 -1 ~ 1 間，再進行訓練\n",
    "2. 請嘗試將 mlp 疊更深 (e.g 5~10 層)，進行訓練後觀察 learning curve 的走勢\n",
    "3. (optional) 請改用 GPU 進行訓練 (如果你有 GPU 的話)，比較使用 CPU 與 GPU 的訓練速度"
   ]
  },
  {
   "cell_type": "code",
   "execution_count": 1,
   "metadata": {},
   "outputs": [
    {
     "data": {
      "text/plain": [
       "'\\nYour code here (optional)\\n確認硬體資源\\n'"
      ]
     },
     "execution_count": 1,
     "metadata": {},
     "output_type": "execute_result"
    }
   ],
   "source": [
    "## \n",
    "\"\"\"\n",
    "Your code here (optional)\n",
    "確認硬體資源\n",
    "\"\"\"\n"
   ]
  },
  {
   "cell_type": "code",
   "execution_count": 2,
   "metadata": {},
   "outputs": [
    {
     "name": "stderr",
     "output_type": "stream",
     "text": [
      "Using TensorFlow backend.\n",
      "C:\\Users\\Aaron\\AppData\\Roaming\\Python\\Python36\\site-packages\\tensorflow\\python\\framework\\dtypes.py:516: FutureWarning: Passing (type, 1) or '1type' as a synonym of type is deprecated; in a future version of numpy, it will be understood as (type, (1,)) / '(1,)type'.\n",
      "  _np_qint8 = np.dtype([(\"qint8\", np.int8, 1)])\n",
      "C:\\Users\\Aaron\\AppData\\Roaming\\Python\\Python36\\site-packages\\tensorflow\\python\\framework\\dtypes.py:517: FutureWarning: Passing (type, 1) or '1type' as a synonym of type is deprecated; in a future version of numpy, it will be understood as (type, (1,)) / '(1,)type'.\n",
      "  _np_quint8 = np.dtype([(\"quint8\", np.uint8, 1)])\n",
      "C:\\Users\\Aaron\\AppData\\Roaming\\Python\\Python36\\site-packages\\tensorflow\\python\\framework\\dtypes.py:518: FutureWarning: Passing (type, 1) or '1type' as a synonym of type is deprecated; in a future version of numpy, it will be understood as (type, (1,)) / '(1,)type'.\n",
      "  _np_qint16 = np.dtype([(\"qint16\", np.int16, 1)])\n",
      "C:\\Users\\Aaron\\AppData\\Roaming\\Python\\Python36\\site-packages\\tensorflow\\python\\framework\\dtypes.py:519: FutureWarning: Passing (type, 1) or '1type' as a synonym of type is deprecated; in a future version of numpy, it will be understood as (type, (1,)) / '(1,)type'.\n",
      "  _np_quint16 = np.dtype([(\"quint16\", np.uint16, 1)])\n",
      "C:\\Users\\Aaron\\AppData\\Roaming\\Python\\Python36\\site-packages\\tensorflow\\python\\framework\\dtypes.py:520: FutureWarning: Passing (type, 1) or '1type' as a synonym of type is deprecated; in a future version of numpy, it will be understood as (type, (1,)) / '(1,)type'.\n",
      "  _np_qint32 = np.dtype([(\"qint32\", np.int32, 1)])\n",
      "C:\\Users\\Aaron\\AppData\\Roaming\\Python\\Python36\\site-packages\\tensorflow\\python\\framework\\dtypes.py:525: FutureWarning: Passing (type, 1) or '1type' as a synonym of type is deprecated; in a future version of numpy, it will be understood as (type, (1,)) / '(1,)type'.\n",
      "  np_resource = np.dtype([(\"resource\", np.ubyte, 1)])\n",
      "C:\\Users\\Aaron\\AppData\\Roaming\\Python\\Python36\\site-packages\\tensorboard\\compat\\tensorflow_stub\\dtypes.py:541: FutureWarning: Passing (type, 1) or '1type' as a synonym of type is deprecated; in a future version of numpy, it will be understood as (type, (1,)) / '(1,)type'.\n",
      "  _np_qint8 = np.dtype([(\"qint8\", np.int8, 1)])\n",
      "C:\\Users\\Aaron\\AppData\\Roaming\\Python\\Python36\\site-packages\\tensorboard\\compat\\tensorflow_stub\\dtypes.py:542: FutureWarning: Passing (type, 1) or '1type' as a synonym of type is deprecated; in a future version of numpy, it will be understood as (type, (1,)) / '(1,)type'.\n",
      "  _np_quint8 = np.dtype([(\"quint8\", np.uint8, 1)])\n",
      "C:\\Users\\Aaron\\AppData\\Roaming\\Python\\Python36\\site-packages\\tensorboard\\compat\\tensorflow_stub\\dtypes.py:543: FutureWarning: Passing (type, 1) or '1type' as a synonym of type is deprecated; in a future version of numpy, it will be understood as (type, (1,)) / '(1,)type'.\n",
      "  _np_qint16 = np.dtype([(\"qint16\", np.int16, 1)])\n",
      "C:\\Users\\Aaron\\AppData\\Roaming\\Python\\Python36\\site-packages\\tensorboard\\compat\\tensorflow_stub\\dtypes.py:544: FutureWarning: Passing (type, 1) or '1type' as a synonym of type is deprecated; in a future version of numpy, it will be understood as (type, (1,)) / '(1,)type'.\n",
      "  _np_quint16 = np.dtype([(\"quint16\", np.uint16, 1)])\n",
      "C:\\Users\\Aaron\\AppData\\Roaming\\Python\\Python36\\site-packages\\tensorboard\\compat\\tensorflow_stub\\dtypes.py:545: FutureWarning: Passing (type, 1) or '1type' as a synonym of type is deprecated; in a future version of numpy, it will be understood as (type, (1,)) / '(1,)type'.\n",
      "  _np_qint32 = np.dtype([(\"qint32\", np.int32, 1)])\n",
      "C:\\Users\\Aaron\\AppData\\Roaming\\Python\\Python36\\site-packages\\tensorboard\\compat\\tensorflow_stub\\dtypes.py:550: FutureWarning: Passing (type, 1) or '1type' as a synonym of type is deprecated; in a future version of numpy, it will be understood as (type, (1,)) / '(1,)type'.\n",
      "  np_resource = np.dtype([(\"resource\", np.ubyte, 1)])\n"
     ]
    }
   ],
   "source": [
    "import os\n",
    "import keras\n",
    "\n",
    "# 請嘗試設定 GPU：os.environ\n",
    "os.environ[\"CUDA_VISIBLE_DEVICES\"] = \"0\""
   ]
  },
  {
   "cell_type": "code",
   "execution_count": 3,
   "metadata": {},
   "outputs": [],
   "source": [
    "train, test = keras.datasets.cifar10.load_data()"
   ]
  },
  {
   "cell_type": "code",
   "execution_count": 4,
   "metadata": {},
   "outputs": [],
   "source": [
    "## 資料前處理\n",
    "\"\"\"\n",
    "Your code here\n",
    "\"\"\"\n",
    "def preproc_x(x, flatten=True):\n",
    "    a = x.min()\n",
    "    b = x.max()\n",
    "    x = (x - a)/(b - a) \n",
    "    if flatten:\n",
    "        x = x.reshape((len(x), -1))\n",
    "    return x\n",
    "\n",
    "def preproc_y(y, num_classes=10):\n",
    "    if y.shape[-1] == 1:\n",
    "        y = keras.utils.to_categorical(y, num_classes)\n",
    "    return y"
   ]
  },
  {
   "cell_type": "code",
   "execution_count": 5,
   "metadata": {},
   "outputs": [],
   "source": [
    "x_train, y_train = train\n",
    "x_test, y_test = test\n",
    "\n",
    "# Preproc the inputs\n",
    "x_train = preproc_x(x_train)\n",
    "x_test = preproc_x(x_test)\n",
    "\n",
    "# Preprc the outputs\n",
    "y_train = preproc_y(y_train)\n",
    "y_test = preproc_y(y_test)"
   ]
  },
  {
   "cell_type": "code",
   "execution_count": 11,
   "metadata": {},
   "outputs": [
    {
     "name": "stdout",
     "output_type": "stream",
     "text": [
      "_________________________________________________________________\n",
      "Layer (type)                 Output Shape              Param #   \n",
      "=================================================================\n",
      "input_2 (InputLayer)         (None, 3072)              0         \n",
      "_________________________________________________________________\n",
      "hidden_layer1 (Dense)        (None, 512)               1573376   \n",
      "_________________________________________________________________\n",
      "hidden_layer2 (Dense)        (None, 256)               131328    \n",
      "_________________________________________________________________\n",
      "hidden_layer3 (Dense)        (None, 128)               32896     \n",
      "_________________________________________________________________\n",
      "hidden_layer4 (Dense)        (None, 64)                8256      \n",
      "_________________________________________________________________\n",
      "hidden_layer5 (Dense)        (None, 32)                2080      \n",
      "_________________________________________________________________\n",
      "output (Dense)               (None, 10)                330       \n",
      "=================================================================\n",
      "Total params: 1,748,266\n",
      "Trainable params: 1,748,266\n",
      "Non-trainable params: 0\n",
      "_________________________________________________________________\n"
     ]
    }
   ],
   "source": [
    "\"\"\"Code Here\n",
    "建立你的神經網路\n",
    "\"\"\"\n",
    "def build_mlp(input_shape, output_units=10, num_neurons=[512, 256, 128, 64, 32]):\n",
    "    input_layer = keras.layers.Input(input_shape)\n",
    "    \n",
    "    for i, n_units in enumerate(num_neurons):\n",
    "        if i == 0:\n",
    "            x = keras.layers.Dense(units=n_units, activation=\"relu\", name=\"hidden_layer\"+str(i+1))(input_layer)\n",
    "        else:\n",
    "            x = keras.layers.Dense(units=n_units, activation=\"relu\", name=\"hidden_layer\"+str(i+1))(x)\n",
    "    \n",
    "    out = keras.layers.Dense(units=output_units, activation=\"softmax\", name=\"output\")(x)\n",
    "    \n",
    "    model = keras.models.Model(inputs=[input_layer], outputs=[out])\n",
    "    return model\n",
    "\n",
    "model = build_mlp(input_shape=x_train.shape[1:])\n",
    "model.summary()"
   ]
  },
  {
   "cell_type": "code",
   "execution_count": 12,
   "metadata": {},
   "outputs": [],
   "source": [
    "## 超參數設定\n",
    "LEARNING_RATE = 0.001\n",
    "EPOCHS = 100\n",
    "BATCH_SIZE = 256"
   ]
  },
  {
   "cell_type": "code",
   "execution_count": 13,
   "metadata": {},
   "outputs": [
    {
     "name": "stdout",
     "output_type": "stream",
     "text": [
      "WARNING:tensorflow:From C:\\Users\\Aaron\\Anaconda3\\envs\\tf\\lib\\site-packages\\keras\\optimizers.py:790: The name tf.train.Optimizer is deprecated. Please use tf.compat.v1.train.Optimizer instead.\n",
      "\n",
      "WARNING:tensorflow:From C:\\Users\\Aaron\\Anaconda3\\envs\\tf\\lib\\site-packages\\keras\\backend\\tensorflow_backend.py:3295: The name tf.log is deprecated. Please use tf.math.log instead.\n",
      "\n"
     ]
    }
   ],
   "source": [
    "\n",
    "optimizer = keras.optimizers.Adam(lr=LEARNING_RATE)\n",
    "model.compile(loss=\"categorical_crossentropy\", metrics=[\"accuracy\"], optimizer=optimizer)"
   ]
  },
  {
   "cell_type": "code",
   "execution_count": 15,
   "metadata": {
    "scrolled": true
   },
   "outputs": [
    {
     "name": "stdout",
     "output_type": "stream",
     "text": [
      "Train on 50000 samples, validate on 10000 samples\n",
      "Epoch 1/100\n",
      "50000/50000 [==============================] - 8s 161us/step - loss: 0.6016 - acc: 0.7829 - val_loss: 1.9648 - val_acc: 0.5091\n",
      "Epoch 2/100\n",
      "50000/50000 [==============================] - 8s 160us/step - loss: 0.5831 - acc: 0.7913 - val_loss: 1.9686 - val_acc: 0.5053\n",
      "Epoch 3/100\n",
      "50000/50000 [==============================] - 8s 156us/step - loss: 0.5836 - acc: 0.7895 - val_loss: 2.0148 - val_acc: 0.4979\n",
      "Epoch 4/100\n",
      "50000/50000 [==============================] - 8s 154us/step - loss: 0.5836 - acc: 0.7888 - val_loss: 2.0873 - val_acc: 0.5059\n",
      "Epoch 5/100\n",
      "50000/50000 [==============================] - 8s 155us/step - loss: 0.5633 - acc: 0.7973 - val_loss: 2.1195 - val_acc: 0.5079\n",
      "Epoch 6/100\n",
      "50000/50000 [==============================] - 8s 155us/step - loss: 0.5339 - acc: 0.8076 - val_loss: 2.1020 - val_acc: 0.5075\n",
      "Epoch 7/100\n",
      "50000/50000 [==============================] - 8s 154us/step - loss: 0.5327 - acc: 0.8082 - val_loss: 2.1880 - val_acc: 0.4981\n",
      "Epoch 8/100\n",
      "50000/50000 [==============================] - 22s 450us/step - loss: 0.5530 - acc: 0.8020 - val_loss: 2.1452 - val_acc: 0.5050\n",
      "Epoch 9/100\n",
      "50000/50000 [==============================] - 9s 190us/step - loss: 0.5248 - acc: 0.8108 - val_loss: 2.1704 - val_acc: 0.5021\n",
      "Epoch 10/100\n",
      "50000/50000 [==============================] - 8s 165us/step - loss: 0.5083 - acc: 0.8170 - val_loss: 2.2237 - val_acc: 0.5046\n",
      "Epoch 11/100\n",
      "50000/50000 [==============================] - 8s 159us/step - loss: 0.5202 - acc: 0.8125 - val_loss: 2.1923 - val_acc: 0.5006\n",
      "Epoch 12/100\n",
      "50000/50000 [==============================] - 8s 155us/step - loss: 0.4934 - acc: 0.8221 - val_loss: 2.2324 - val_acc: 0.5035\n",
      "Epoch 13/100\n",
      "50000/50000 [==============================] - 8s 154us/step - loss: 0.4934 - acc: 0.8222 - val_loss: 2.3296 - val_acc: 0.4987\n",
      "Epoch 14/100\n",
      "50000/50000 [==============================] - 8s 154us/step - loss: 0.4880 - acc: 0.8249 - val_loss: 2.2961 - val_acc: 0.5019\n",
      "Epoch 15/100\n",
      "50000/50000 [==============================] - 8s 155us/step - loss: 0.4809 - acc: 0.8260 - val_loss: 2.3193 - val_acc: 0.4953\n",
      "Epoch 16/100\n",
      "50000/50000 [==============================] - 16s 319us/step - loss: 0.4580 - acc: 0.8354 - val_loss: 2.4132 - val_acc: 0.5002\n",
      "Epoch 17/100\n",
      "50000/50000 [==============================] - 17s 332us/step - loss: 0.4753 - acc: 0.8283 - val_loss: 2.3710 - val_acc: 0.5017\n",
      "Epoch 18/100\n",
      "50000/50000 [==============================] - 8s 167us/step - loss: 0.4461 - acc: 0.8417 - val_loss: 2.4735 - val_acc: 0.5068\n",
      "Epoch 19/100\n",
      "50000/50000 [==============================] - 8s 159us/step - loss: 0.4436 - acc: 0.8401 - val_loss: 2.5167 - val_acc: 0.4928\n",
      "Epoch 20/100\n",
      "50000/50000 [==============================] - 8s 157us/step - loss: 0.4481 - acc: 0.8369 - val_loss: 2.5042 - val_acc: 0.4948\n",
      "Epoch 21/100\n",
      "50000/50000 [==============================] - 8s 155us/step - loss: 0.4217 - acc: 0.8477 - val_loss: 2.5204 - val_acc: 0.4972\n",
      "Epoch 22/100\n",
      "50000/50000 [==============================] - 8s 154us/step - loss: 0.4349 - acc: 0.8442 - val_loss: 2.5413 - val_acc: 0.4986\n",
      "Epoch 23/100\n",
      "50000/50000 [==============================] - 8s 154us/step - loss: 0.4234 - acc: 0.8462 - val_loss: 2.6272 - val_acc: 0.4979\n",
      "Epoch 24/100\n",
      "50000/50000 [==============================] - 8s 154us/step - loss: 0.4243 - acc: 0.8463 - val_loss: 2.5876 - val_acc: 0.4940\n",
      "Epoch 25/100\n",
      "50000/50000 [==============================] - 23s 461us/step - loss: 0.4325 - acc: 0.8443 - val_loss: 2.5508 - val_acc: 0.4949\n",
      "Epoch 26/100\n",
      "50000/50000 [==============================] - 9s 184us/step - loss: 0.4140 - acc: 0.8488 - val_loss: 2.6751 - val_acc: 0.4920\n",
      "Epoch 27/100\n",
      "50000/50000 [==============================] - 8s 164us/step - loss: 0.4110 - acc: 0.8532 - val_loss: 2.6160 - val_acc: 0.5000\n",
      "Epoch 28/100\n",
      "50000/50000 [==============================] - 8s 158us/step - loss: 0.3974 - acc: 0.8576 - val_loss: 2.6438 - val_acc: 0.4906\n",
      "Epoch 29/100\n",
      "50000/50000 [==============================] - 8s 156us/step - loss: 0.4170 - acc: 0.8486 - val_loss: 2.7366 - val_acc: 0.4970\n",
      "Epoch 30/100\n",
      "50000/50000 [==============================] - 8s 154us/step - loss: 0.3845 - acc: 0.8610 - val_loss: 2.7048 - val_acc: 0.5026\n",
      "Epoch 31/100\n",
      "50000/50000 [==============================] - 8s 154us/step - loss: 0.3731 - acc: 0.8669 - val_loss: 2.7253 - val_acc: 0.4885\n",
      "Epoch 32/100\n",
      "50000/50000 [==============================] - 8s 154us/step - loss: 0.3963 - acc: 0.8557 - val_loss: 2.7062 - val_acc: 0.4940\n",
      "Epoch 33/100\n",
      "50000/50000 [==============================] - 24s 479us/step - loss: 0.3673 - acc: 0.8671 - val_loss: 2.7411 - val_acc: 0.4923\n",
      "Epoch 34/100\n",
      "50000/50000 [==============================] - 12s 236us/step - loss: 0.3891 - acc: 0.8596 - val_loss: 2.7363 - val_acc: 0.4962\n",
      "Epoch 35/100\n",
      "50000/50000 [==============================] - 8s 158us/step - loss: 0.3673 - acc: 0.8691 - val_loss: 2.8554 - val_acc: 0.4957\n",
      "Epoch 36/100\n",
      "50000/50000 [==============================] - 8s 152us/step - loss: 0.3575 - acc: 0.8721 - val_loss: 2.9041 - val_acc: 0.4989\n",
      "Epoch 37/100\n",
      "50000/50000 [==============================] - 8s 151us/step - loss: 0.3661 - acc: 0.8674 - val_loss: 2.7870 - val_acc: 0.5002\n",
      "Epoch 38/100\n",
      "50000/50000 [==============================] - 7s 150us/step - loss: 0.3692 - acc: 0.8672 - val_loss: 2.8183 - val_acc: 0.4993\n",
      "Epoch 39/100\n",
      "50000/50000 [==============================] - 7s 150us/step - loss: 0.3420 - acc: 0.8785 - val_loss: 2.9070 - val_acc: 0.4903\n",
      "Epoch 40/100\n",
      "50000/50000 [==============================] - 8s 150us/step - loss: 0.3411 - acc: 0.8775 - val_loss: 2.8947 - val_acc: 0.4928\n",
      "Epoch 41/100\n",
      "50000/50000 [==============================] - 8s 150us/step - loss: 0.3672 - acc: 0.8675 - val_loss: 2.9288 - val_acc: 0.4944\n",
      "Epoch 42/100\n",
      "50000/50000 [==============================] - 16s 322us/step - loss: 0.3397 - acc: 0.8769 - val_loss: 2.8987 - val_acc: 0.4970\n",
      "Epoch 43/100\n",
      "50000/50000 [==============================] - 12s 244us/step - loss: 0.3340 - acc: 0.8797 - val_loss: 2.9847 - val_acc: 0.4977\n",
      "Epoch 44/100\n",
      "50000/50000 [==============================] - 8s 161us/step - loss: 0.3380 - acc: 0.8786 - val_loss: 3.0967 - val_acc: 0.4904\n",
      "Epoch 45/100\n",
      "50000/50000 [==============================] - 8s 156us/step - loss: 0.3452 - acc: 0.8762 - val_loss: 2.9697 - val_acc: 0.4962\n",
      "Epoch 46/100\n",
      "50000/50000 [==============================] - 8s 153us/step - loss: 0.3290 - acc: 0.8796 - val_loss: 2.9856 - val_acc: 0.4900\n",
      "Epoch 47/100\n",
      "50000/50000 [==============================] - 7s 150us/step - loss: 0.3051 - acc: 0.8901 - val_loss: 3.0893 - val_acc: 0.4907\n",
      "Epoch 48/100\n",
      "50000/50000 [==============================] - 8s 158us/step - loss: 0.3029 - acc: 0.8920 - val_loss: 3.0753 - val_acc: 0.4975\n",
      "Epoch 49/100\n",
      "50000/50000 [==============================] - 8s 152us/step - loss: 0.3540 - acc: 0.8750 - val_loss: 2.9612 - val_acc: 0.4870\n",
      "Epoch 50/100\n",
      "50000/50000 [==============================] - 8s 150us/step - loss: 0.3223 - acc: 0.8841 - val_loss: 3.0518 - val_acc: 0.4998\n",
      "Epoch 51/100\n",
      "50000/50000 [==============================] - 8s 150us/step - loss: 0.2735 - acc: 0.9021 - val_loss: 3.1897 - val_acc: 0.4934\n",
      "Epoch 52/100\n",
      "50000/50000 [==============================] - 7s 150us/step - loss: 0.3438 - acc: 0.8770 - val_loss: 3.1237 - val_acc: 0.4920\n",
      "Epoch 53/100\n",
      "50000/50000 [==============================] - 8s 150us/step - loss: 0.3044 - acc: 0.8897 - val_loss: 3.1715 - val_acc: 0.4839\n",
      "Epoch 54/100\n",
      "50000/50000 [==============================] - 14s 271us/step - loss: 0.2813 - acc: 0.8989 - val_loss: 3.2197 - val_acc: 0.4953\n",
      "Epoch 55/100\n",
      "50000/50000 [==============================] - 13s 263us/step - loss: 0.2828 - acc: 0.8975 - val_loss: 3.1503 - val_acc: 0.4865\n",
      "Epoch 56/100\n",
      "50000/50000 [==============================] - 8s 162us/step - loss: 0.2984 - acc: 0.8932 - val_loss: 3.0937 - val_acc: 0.4871\n",
      "Epoch 57/100\n",
      "50000/50000 [==============================] - 8s 157us/step - loss: 0.3245 - acc: 0.8825 - val_loss: 3.2069 - val_acc: 0.4988\n",
      "Epoch 58/100\n",
      "50000/50000 [==============================] - 8s 152us/step - loss: 0.2879 - acc: 0.8966 - val_loss: 3.2977 - val_acc: 0.4965\n",
      "Epoch 59/100\n"
     ]
    },
    {
     "name": "stdout",
     "output_type": "stream",
     "text": [
      "50000/50000 [==============================] - 8s 151us/step - loss: 0.2975 - acc: 0.8916 - val_loss: 3.3120 - val_acc: 0.4862\n",
      "Epoch 60/100\n",
      "50000/50000 [==============================] - 8s 150us/step - loss: 0.2954 - acc: 0.8935 - val_loss: 3.2841 - val_acc: 0.4882\n",
      "Epoch 61/100\n",
      "50000/50000 [==============================] - 8s 150us/step - loss: 0.2563 - acc: 0.9078 - val_loss: 3.3030 - val_acc: 0.4984\n",
      "Epoch 62/100\n",
      "50000/50000 [==============================] - 7s 150us/step - loss: 0.3144 - acc: 0.8866 - val_loss: 3.1991 - val_acc: 0.4916\n",
      "Epoch 63/100\n",
      "50000/50000 [==============================] - 11s 211us/step - loss: 0.2591 - acc: 0.9062 - val_loss: 3.3452 - val_acc: 0.4965\n",
      "Epoch 64/100\n",
      "50000/50000 [==============================] - 20s 408us/step - loss: 0.2804 - acc: 0.8993 - val_loss: 3.3301 - val_acc: 0.4926\n",
      "Epoch 65/100\n",
      "50000/50000 [==============================] - 8s 168us/step - loss: 0.2817 - acc: 0.8996 - val_loss: 3.3058 - val_acc: 0.4947\n",
      "Epoch 66/100\n",
      "50000/50000 [==============================] - 8s 160us/step - loss: 0.2638 - acc: 0.9045 - val_loss: 3.3620 - val_acc: 0.4918\n",
      "Epoch 67/100\n",
      "50000/50000 [==============================] - 8s 157us/step - loss: 0.2491 - acc: 0.9087 - val_loss: 3.4502 - val_acc: 0.4881\n",
      "Epoch 68/100\n",
      "50000/50000 [==============================] - 8s 155us/step - loss: 0.2546 - acc: 0.9081 - val_loss: 3.3734 - val_acc: 0.4922\n",
      "Epoch 69/100\n",
      "50000/50000 [==============================] - 8s 155us/step - loss: 0.2596 - acc: 0.9074 - val_loss: 3.4341 - val_acc: 0.4952\n",
      "Epoch 70/100\n",
      "50000/50000 [==============================] - 8s 154us/step - loss: 0.2694 - acc: 0.9036 - val_loss: 3.3548 - val_acc: 0.4920\n",
      "Epoch 71/100\n",
      "50000/50000 [==============================] - 8s 156us/step - loss: 0.2951 - acc: 0.8931 - val_loss: 3.4533 - val_acc: 0.4896\n",
      "Epoch 72/100\n",
      "50000/50000 [==============================] - 8s 155us/step - loss: 0.2990 - acc: 0.8915 - val_loss: 3.3695 - val_acc: 0.4782\n",
      "Epoch 73/100\n",
      "50000/50000 [==============================] - 9s 186us/step - loss: 0.2225 - acc: 0.9207 - val_loss: 3.4775 - val_acc: 0.4899\n",
      "Epoch 74/100\n",
      "50000/50000 [==============================] - 21s 428us/step - loss: 0.2135 - acc: 0.9233 - val_loss: 3.5734 - val_acc: 0.4986\n",
      "Epoch 75/100\n",
      "50000/50000 [==============================] - 9s 172us/step - loss: 0.2767 - acc: 0.9002 - val_loss: 3.4227 - val_acc: 0.4918\n",
      "Epoch 76/100\n",
      "50000/50000 [==============================] - 8s 161us/step - loss: 0.2421 - acc: 0.9131 - val_loss: 3.5427 - val_acc: 0.4903\n",
      "Epoch 77/100\n",
      "50000/50000 [==============================] - 8s 157us/step - loss: 0.2342 - acc: 0.9173 - val_loss: 3.5539 - val_acc: 0.4865\n",
      "Epoch 78/100\n",
      "50000/50000 [==============================] - 8s 155us/step - loss: 0.2677 - acc: 0.9036 - val_loss: 3.6174 - val_acc: 0.4855\n",
      "Epoch 79/100\n",
      "50000/50000 [==============================] - 8s 155us/step - loss: 0.2593 - acc: 0.9068 - val_loss: 3.4942 - val_acc: 0.4841\n",
      "Epoch 80/100\n",
      "50000/50000 [==============================] - 8s 153us/step - loss: 0.2185 - acc: 0.9224 - val_loss: 3.6402 - val_acc: 0.4875\n",
      "Epoch 81/100\n",
      "50000/50000 [==============================] - 8s 154us/step - loss: 0.2191 - acc: 0.9220 - val_loss: 3.6482 - val_acc: 0.4818\n",
      "Epoch 82/100\n",
      "50000/50000 [==============================] - 24s 473us/step - loss: 0.2772 - acc: 0.9012 - val_loss: 3.6094 - val_acc: 0.4833\n",
      "Epoch 83/100\n",
      "50000/50000 [==============================] - 9s 183us/step - loss: 0.2230 - acc: 0.9203 - val_loss: 3.4876 - val_acc: 0.4864\n",
      "Epoch 84/100\n",
      "50000/50000 [==============================] - 8s 162us/step - loss: 0.2617 - acc: 0.9062 - val_loss: 3.5157 - val_acc: 0.4875\n",
      "Epoch 85/100\n",
      "50000/50000 [==============================] - 8s 158us/step - loss: 0.2189 - acc: 0.9234 - val_loss: 3.7068 - val_acc: 0.4904\n",
      "Epoch 86/100\n",
      "50000/50000 [==============================] - 8s 156us/step - loss: 0.2079 - acc: 0.9261 - val_loss: 3.6827 - val_acc: 0.4869\n",
      "Epoch 87/100\n",
      "50000/50000 [==============================] - 8s 154us/step - loss: 0.2057 - acc: 0.9267 - val_loss: 3.7933 - val_acc: 0.4873\n",
      "Epoch 88/100\n",
      "50000/50000 [==============================] - 8s 153us/step - loss: 0.2541 - acc: 0.9109 - val_loss: 3.6825 - val_acc: 0.4866\n",
      "Epoch 89/100\n",
      "50000/50000 [==============================] - 8s 153us/step - loss: 0.2730 - acc: 0.9038 - val_loss: 3.6091 - val_acc: 0.4963\n",
      "Epoch 90/100\n",
      "50000/50000 [==============================] - 8s 153us/step - loss: 0.2408 - acc: 0.9145 - val_loss: 3.6264 - val_acc: 0.4967\n",
      "Epoch 91/100\n",
      "50000/50000 [==============================] - 8s 158us/step - loss: 0.2121 - acc: 0.9241 - val_loss: 3.6865 - val_acc: 0.4863\n",
      "Epoch 92/100\n",
      "50000/50000 [==============================] - 23s 462us/step - loss: 0.2167 - acc: 0.9223 - val_loss: 3.7675 - val_acc: 0.4895\n",
      "Epoch 93/100\n",
      "50000/50000 [==============================] - 9s 172us/step - loss: 0.2030 - acc: 0.9275 - val_loss: 3.6574 - val_acc: 0.4853\n",
      "Epoch 94/100\n",
      "50000/50000 [==============================] - 8s 161us/step - loss: 0.2193 - acc: 0.9224 - val_loss: 3.8332 - val_acc: 0.4920\n",
      "Epoch 95/100\n",
      "50000/50000 [==============================] - 8s 156us/step - loss: 0.2202 - acc: 0.9215 - val_loss: 3.8099 - val_acc: 0.4815\n",
      "Epoch 96/100\n",
      "50000/50000 [==============================] - 8s 154us/step - loss: 0.2272 - acc: 0.9203 - val_loss: 3.7780 - val_acc: 0.4897\n",
      "Epoch 97/100\n",
      "50000/50000 [==============================] - 8s 153us/step - loss: 0.2517 - acc: 0.9111 - val_loss: 3.8029 - val_acc: 0.4821\n",
      "Epoch 98/100\n",
      "50000/50000 [==============================] - 8s 153us/step - loss: 0.2022 - acc: 0.9278 - val_loss: 3.7513 - val_acc: 0.4912\n",
      "Epoch 99/100\n",
      "50000/50000 [==============================] - 8s 153us/step - loss: 0.1838 - acc: 0.9345 - val_loss: 3.8260 - val_acc: 0.4868\n",
      "Epoch 100/100\n",
      "50000/50000 [==============================] - 22s 449us/step - loss: 0.2168 - acc: 0.9232 - val_loss: 3.8820 - val_acc: 0.4826\n"
     ]
    },
    {
     "data": {
      "text/plain": [
       "<keras.callbacks.History at 0x2050af7eb00>"
      ]
     },
     "execution_count": 15,
     "metadata": {},
     "output_type": "execute_result"
    }
   ],
   "source": [
    "model.fit(x_train, y_train, \n",
    "          epochs=EPOCHS, \n",
    "          batch_size=BATCH_SIZE, \n",
    "          validation_data=(x_test, y_test), \n",
    "          shuffle=True)"
   ]
  },
  {
   "cell_type": "code",
   "execution_count": 17,
   "metadata": {},
   "outputs": [
    {
     "data": {
      "image/png": "[encoded data removed]",
      "text/plain": [
       "<Figure size 432x288 with 1 Axes>"
      ]
     },
     "metadata": {
      "needs_background": "light"
     },
     "output_type": "display_data"
    },
    {
     "data": {
      "image/png": "[encoded data removed]",
      "text/plain": [
       "<Figure size 432x288 with 1 Axes>"
      ]
     },
     "metadata": {
      "needs_background": "light"
     },
     "output_type": "display_data"
    }
   ],
   "source": [
    "import matplotlib.pyplot as plt\n",
    "\n",
    "%matplotlib inline\n",
    "train_loss = model.history.history[\"loss\"]\n",
    "valid_loss = model.history.history[\"val_loss\"]\n",
    "\n",
    "train_acc = model.history.history[\"acc\"]\n",
    "valid_acc = model.history.history[\"val_acc\"]\n",
    "\n",
    "plt.plot(range(len(train_loss)), train_loss, label=\"train loss\")\n",
    "plt.plot(range(len(valid_loss)), valid_loss, label=\"valid loss\")\n",
    "plt.legend()\n",
    "plt.title(\"Loss\")\n",
    "plt.show()\n",
    "\n",
    "plt.plot(range(len(train_acc)), train_acc, label=\"train accuracy\")\n",
    "plt.plot(range(len(valid_acc)), valid_acc, label=\"valid accuracy\")\n",
    "plt.legend()\n",
    "plt.title(\"Accuracy\")\n",
    "plt.show()"
   ]
  },
  {
   "cell_type": "code",
   "execution_count": null,
   "metadata": {},
   "outputs": [],
   "source": []
  }
 ],
 "metadata": {
  "kernelspec": {
   "display_name": "Python 3",
   "language": "python",
   "name": "python3"
  },
  "language_info": {
   "codemirror_mode": {
    "name": "ipython",
    "version": 3
   },
   "file_extension": ".py",
   "mimetype": "text/x-python",
   "name": "python",
   "nbconvert_exporter": "python",
   "pygments_lexer": "ipython3",
   "version": "3.6.9"
  }
 },
 "nbformat": 4,
 "nbformat_minor": 2
}
