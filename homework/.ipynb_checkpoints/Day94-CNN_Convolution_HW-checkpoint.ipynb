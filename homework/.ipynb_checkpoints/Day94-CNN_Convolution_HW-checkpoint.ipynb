{
 "cells": [
  {
   "cell_type": "markdown",
   "metadata": {},
   "source": [
    "# 作業目標:\n",
    "    了解 Convolution 卷積的組成"
   ]
  },
  {
   "cell_type": "markdown",
   "metadata": {},
   "source": [
    "# 作業重點:\n",
    "    修改 a_slice_prev, 檢查 Z 的輸出"
   ]
  },
  {
   "cell_type": "code",
   "execution_count": 1,
   "metadata": {},
   "outputs": [],
   "source": [
    "import numpy as np"
   ]
  },
  {
   "cell_type": "code",
   "execution_count": 6,
   "metadata": {},
   "outputs": [],
   "source": [
    "# GRADED FUNCTION: conv_single_step\n",
    "def conv_single_step(a_slice_prev, W, b):\n",
    "    \"\"\"\n",
    "    定義一層 Kernel (內核), 使用的參數說明如下\n",
    "    Arguments:\n",
    "        a_slice_prev -- 輸入資料的維度\n",
    "        W -- 權重, 被使用在 a_slice_prev\n",
    "        b -- 偏差參數 \n",
    "    Returns:\n",
    "        Z -- 滑動窗口（W，b）卷積在前一個 feature map 上的結果\n",
    "    \"\"\"\n",
    "\n",
    "    # 定義一個元素介於 a_slice and W\n",
    "    s = a_slice_prev * W\n",
    "    print(s)\n",
    "    # 加總所有的 \"s\" 並指定給Z.\n",
    "    Z = np.sum(s)\n",
    "    # Add bias b to Z. 這是 float() 函數,\n",
    "    Z = float(Z + b)\n",
    "\n",
    "    return Z"
   ]
  },
  {
   "cell_type": "code",
   "execution_count": 7,
   "metadata": {},
   "outputs": [
    {
     "name": "stdout",
     "output_type": "stream",
     "text": [
      "[[[ 1.62434536 -0.61175641 -0.52817175]\n",
      "  [-1.07296862  0.86540763 -2.3015387 ]\n",
      "  [ 1.74481176 -0.7612069   0.3190391 ]]\n",
      "\n",
      " [[-0.24937038  1.46210794 -2.06014071]\n",
      "  [-0.3224172  -0.38405435  1.13376944]\n",
      "  [-1.09989127 -0.17242821 -0.87785842]]\n",
      "\n",
      " [[ 0.04221375  0.58281521 -1.10061918]\n",
      "  [ 1.14472371  0.90159072  0.50249434]\n",
      "  [ 0.90085595 -0.68372786 -0.12289023]]]\n",
      "[[[-0.93576943 -0.26788808  0.53035547]\n",
      "  [-0.69166075 -0.39675353 -0.6871727 ]\n",
      "  [-0.84520564 -0.67124613 -0.0126646 ]]\n",
      "\n",
      " [[-1.11731035  0.2344157   1.65980218]\n",
      "  [ 0.74204416 -0.19183555 -0.88762896]\n",
      "  [-0.74715829  1.6924546   0.05080775]]\n",
      "\n",
      " [[-0.63699565  0.19091548  2.10025514]\n",
      "  [ 0.12015895  0.61720311  0.30017032]\n",
      "  [-0.35224985 -1.1425182  -0.34934272]]]\n",
      "[[[-1.52001274  0.16388225 -0.28011878]\n",
      "  [ 0.74213028 -0.34335353  1.58155456]\n",
      "  [-1.47472475  0.51095719 -0.0040405 ]]\n",
      "\n",
      " [[ 0.2786241   0.34274105 -3.41942603]\n",
      "  [-0.2392478   0.07367528 -1.0063666 ]\n",
      "  [ 0.82179288 -0.29182691 -0.04460202]]\n",
      "\n",
      " [[-0.02688997  0.11126845 -2.31158108]\n",
      "  [ 0.1375488   0.5564646   0.15083389]\n",
      "  [-0.31732637  0.78117152  0.04293081]]]\n",
      "Z = -5.19283565556167\n"
     ]
    }
   ],
   "source": [
    "'''\n",
    "\n",
    "np.random.seed(1)\n",
    "#定義一個 axaxd 的 feature map\n",
    "a_slice_prev = \n",
    "W = \n",
    "b = np.random.randn(1, 1, 1)\n",
    "\n",
    "#取得計算後,卷積矩陣的值\n",
    "Z = conv_single_step(a_slice_prev, W, b)\n",
    "print(\"Z =\", Z)\n",
    "'''\n",
    "np.random.seed(1)\n",
    "\n",
    "#定義一個 3x3x3 的 feature map\n",
    "\n",
    "a_slice_prev = np.random.randn(3, 3, 3)\n",
    "print(a_slice_prev)\n",
    "W = np.random.randn(3, 3, 3)\n",
    "print(W)\n",
    "b = np.random.randn(1, 1, 1)\n",
    "\n",
    "\n",
    "\n",
    "#取得計算後,卷績矩陣的值\n",
    "\n",
    "Z = conv_single_step(a_slice_prev, W, b)\n",
    "\n",
    "print(\"Z =\", Z)"
   ]
  },
  {
   "cell_type": "code",
   "execution_count": null,
   "metadata": {},
   "outputs": [],
   "source": []
  }
 ],
 "metadata": {
  "kernelspec": {
   "display_name": "Python 3",
   "language": "python",
   "name": "python3"
  },
  "language_info": {
   "codemirror_mode": {
    "name": "ipython",
    "version": 3
   },
   "file_extension": ".py",
   "mimetype": "text/x-python",
   "name": "python",
   "nbconvert_exporter": "python",
   "pygments_lexer": "ipython3",
   "version": "3.6.9"
  }
 },
 "nbformat": 4,
 "nbformat_minor": 2
}
