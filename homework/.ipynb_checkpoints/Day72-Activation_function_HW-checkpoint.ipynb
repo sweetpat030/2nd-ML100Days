{
 "cells": [
  {
   "cell_type": "markdown",
   "metadata": {},
   "source": [
    "# 作業目標:\n",
    "    寫出 ReLU & dReLU 一階導數\n",
    "    並列印\n"
   ]
  },
  {
   "cell_type": "markdown",
   "metadata": {},
   "source": [
    "# 作業重點\n",
    "\n",
    "# Rectified Linear Unit- Relu \n",
    "\n",
    "f(x)=max(0,x)\n"
   ]
  },
  {
   "cell_type": "code",
   "execution_count": 19,
   "metadata": {},
   "outputs": [
    {
     "name": "stdout",
     "output_type": "stream",
     "text": [
      "[ 0.          0.          0.          0.          0.          0.\n",
      "  0.          0.          0.          0.          0.          0.\n",
      "  0.          0.          0.          0.          0.          0.\n",
      "  0.          0.          0.          0.          0.          0.\n",
      "  0.          0.          0.          0.          0.          0.\n",
      "  0.          0.          0.          0.          0.          0.\n",
      "  0.          0.          0.          0.          0.          0.\n",
      "  0.          0.          0.          0.          0.          0.\n",
      "  0.          0.          0.          0.          0.          0.\n",
      "  0.          0.          0.          0.          0.          0.\n",
      "  0.          0.          0.          0.          0.          0.\n",
      "  0.          0.          0.          0.          0.          0.\n",
      "  0.          0.          0.          0.          0.          0.\n",
      "  0.          0.          0.          0.          0.          0.\n",
      "  0.          0.          0.          0.          0.          0.\n",
      "  0.          0.          0.          0.          0.          0.\n",
      "  0.          0.          0.          0.          0.05025126  0.15075377\n",
      "  0.25125628  0.35175879  0.45226131  0.55276382  0.65326633  0.75376884\n",
      "  0.85427136  0.95477387  1.05527638  1.15577889  1.25628141  1.35678392\n",
      "  1.45728643  1.55778894  1.65829146  1.75879397  1.85929648  1.95979899\n",
      "  2.06030151  2.16080402  2.26130653  2.36180905  2.46231156  2.56281407\n",
      "  2.66331658  2.7638191   2.86432161  2.96482412  3.06532663  3.16582915\n",
      "  3.26633166  3.36683417  3.46733668  3.5678392   3.66834171  3.76884422\n",
      "  3.86934673  3.96984925  4.07035176  4.17085427  4.27135678  4.3718593\n",
      "  4.47236181  4.57286432  4.67336683  4.77386935  4.87437186  4.97487437\n",
      "  5.07537688  5.1758794   5.27638191  5.37688442  5.47738693  5.57788945\n",
      "  5.67839196  5.77889447  5.87939698  5.9798995   6.08040201  6.18090452\n",
      "  6.28140704  6.38190955  6.48241206  6.58291457  6.68341709  6.7839196\n",
      "  6.88442211  6.98492462  7.08542714  7.18592965  7.28643216  7.38693467\n",
      "  7.48743719  7.5879397   7.68844221  7.78894472  7.88944724  7.98994975\n",
      "  8.09045226  8.19095477  8.29145729  8.3919598   8.49246231  8.59296482\n",
      "  8.69346734  8.79396985  8.89447236  8.99497487  9.09547739  9.1959799\n",
      "  9.29648241  9.39698492  9.49748744  9.59798995  9.69849246  9.79899497\n",
      "  9.89949749 10.        ]\n"
     ]
    },
    {
     "data": {
      "image/png": "[encoded data removed]",
      "text/plain": [
       "<Figure size 432x288 with 1 Axes>"
      ]
     },
     "metadata": {
      "needs_background": "light"
     },
     "output_type": "display_data"
    }
   ],
   "source": [
    "import numpy as np\n",
    "from numpy import *\n",
    "import matplotlib.pylab as plt\n",
    "%matplotlib inline\n",
    "\n",
    "'''\n",
    "作業:\n",
    "    寫出 ReLU & dReLU 一階導數\n",
    "    並列印\n",
    "'''\n",
    "\n",
    "\n",
    "def Relu(x):\n",
    "     return np.maximum(x, 0)\n",
    "def dRelu(x):\n",
    "     return 1*(x>0)\n",
    "#x=np.arange(0,1.0,0.01)\n",
    "x = plt.linspace(-10,10,200)\n",
    "\n",
    "#resize the X and Y axes\n",
    "plt.gca().xaxis.set_major_locator(plt.MultipleLocator(1))\n",
    "#plt.gca().yaxis.set_major_locator(plt.MultipleLocator(1))\n",
    "\n",
    "#列印所有Softmax 值並輸出成一陣列\n",
    "print(Relu(x))\n",
    "plt.plot(x, Relu(x), 'r')\n",
    "plt.plot(x, dRelu(x), 'b')\n",
    "plt.text(7, 8.5, r'$f(x)=max(0,x)$', fontsize=15)\n",
    "plt.text(6, 4, 'x < 0 ,x = 0', fontsize=15)\n",
    "plt.text(6, 2, 'x >= 0 ,x = 1', fontsize=15)\n",
    "plt.show()"
   ]
  },
  {
   "cell_type": "code",
   "execution_count": null,
   "metadata": {},
   "outputs": [],
   "source": []
  }
 ],
 "metadata": {
  "kernelspec": {
   "display_name": "Python 3",
   "language": "python",
   "name": "python3"
  },
  "language_info": {
   "codemirror_mode": {
    "name": "ipython",
    "version": 3
   },
   "file_extension": ".py",
   "mimetype": "text/x-python",
   "name": "python",
   "nbconvert_exporter": "python",
   "pygments_lexer": "ipython3",
   "version": "3.6.9"
  }
 },
 "nbformat": 4,
 "nbformat_minor": 2
}
